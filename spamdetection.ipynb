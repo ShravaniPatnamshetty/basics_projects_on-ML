{
 "cells": [
  {
   "cell_type": "code",
   "execution_count": 74,
   "id": "2fc82233",
   "metadata": {},
   "outputs": [],
   "source": [
    "import pandas as pd\n",
    "from sklearn.feature_extraction.text import CountVectorizer\n",
    "from sklearn import svm\n",
    "from sklearn.model_selection import GridSearchCV\n",
    "from sklearn.ensemble import RandomForestClassifier"
   ]
  },
  {
   "cell_type": "code",
   "execution_count": 75,
   "id": "d9a37610",
   "metadata": {},
   "outputs": [
    {
     "data": {
      "text/html": [
       "<div>\n",
       "<style scoped>\n",
       "    .dataframe tbody tr th:only-of-type {\n",
       "        vertical-align: middle;\n",
       "    }\n",
       "\n",
       "    .dataframe tbody tr th {\n",
       "        vertical-align: top;\n",
       "    }\n",
       "\n",
       "    .dataframe thead th {\n",
       "        text-align: right;\n",
       "    }\n",
       "</style>\n",
       "<table border=\"1\" class=\"dataframe\">\n",
       "  <thead>\n",
       "    <tr style=\"text-align: right;\">\n",
       "      <th></th>\n",
       "      <th>Label</th>\n",
       "      <th>EmailText</th>\n",
       "    </tr>\n",
       "  </thead>\n",
       "  <tbody>\n",
       "    <tr>\n",
       "      <th>count</th>\n",
       "      <td>5572</td>\n",
       "      <td>5572</td>\n",
       "    </tr>\n",
       "    <tr>\n",
       "      <th>unique</th>\n",
       "      <td>2</td>\n",
       "      <td>5169</td>\n",
       "    </tr>\n",
       "    <tr>\n",
       "      <th>top</th>\n",
       "      <td>ham</td>\n",
       "      <td>Sorry, I'll call later</td>\n",
       "    </tr>\n",
       "    <tr>\n",
       "      <th>freq</th>\n",
       "      <td>4825</td>\n",
       "      <td>30</td>\n",
       "    </tr>\n",
       "  </tbody>\n",
       "</table>\n",
       "</div>"
      ],
      "text/plain": [
       "       Label               EmailText\n",
       "count   5572                    5572\n",
       "unique     2                    5169\n",
       "top      ham  Sorry, I'll call later\n",
       "freq    4825                      30"
      ]
     },
     "execution_count": 75,
     "metadata": {},
     "output_type": "execute_result"
    }
   ],
   "source": [
    "#load_dataset\n",
    "dataframe=pd.read_csv(\"spam.csv\")\n",
    "dataframe.describe() "
   ]
  },
  {
   "cell_type": "code",
   "execution_count": 10,
   "id": "945067f0",
   "metadata": {},
   "outputs": [],
   "source": [
    "#split the dataset\n",
    "from sklearn.model_selection import train_test_split\n",
    "X=dataframe[\"EmailText\"]\n",
    "y=dataframe[\"Label\"]\n",
    "X_train_full,X_test,y_train_full,y_test=train_test_split(X,y,test_size=0.2)\n",
    "X_train,X_valid,y_train,y_valid=train_test_split(X_train_full,y_train_full)"
   ]
  },
  {
   "cell_type": "code",
   "execution_count": 68,
   "id": "c9439018",
   "metadata": {},
   "outputs": [],
   "source": [
    "#extractfeatures\n",
    "cv=CountVectorizer()\n",
    "features=cv.fit_transform(X_train)\n",
    "features1=cv.fit_transform(X)\n",
    "features2=cv.fit_transform(X_valid)"
   ]
  },
  {
   "cell_type": "code",
   "execution_count": 52,
   "id": "c3c4c557",
   "metadata": {},
   "outputs": [
    {
     "data": {
      "text/plain": [
       "SVC()"
      ]
     },
     "execution_count": 52,
     "metadata": {},
     "output_type": "execute_result"
    }
   ],
   "source": [
    "#build a model\n",
    "model=svm.SVC()\n",
    "model.fit(features1,y)"
   ]
  },
  {
   "cell_type": "code",
   "execution_count": 34,
   "id": "836b693e",
   "metadata": {},
   "outputs": [
    {
     "data": {
      "text/plain": [
       "0.979372197309417"
      ]
     },
     "execution_count": 34,
     "metadata": {},
     "output_type": "execute_result"
    }
   ],
   "source": [
    "#test accuracy\n",
    "features_test=cv.transform(X_test)\n",
    "model.score(features_test,y_test)"
   ]
  },
  {
   "cell_type": "code",
   "execution_count": 53,
   "id": "f0608afc",
   "metadata": {},
   "outputs": [],
   "source": [
    "from sklearn.model_selection import cross_val_score\n",
    "cv_score=cross_val_score(model,features1,y,cv=5)"
   ]
  },
  {
   "cell_type": "code",
   "execution_count": 55,
   "id": "8868294a",
   "metadata": {},
   "outputs": [
    {
     "data": {
      "text/plain": [
       "array([0.97578475, 0.97847534, 0.97666068, 0.97755835, 0.98384201])"
      ]
     },
     "execution_count": 55,
     "metadata": {},
     "output_type": "execute_result"
    }
   ],
   "source": [
    "cv_score"
   ]
  },
  {
   "cell_type": "code",
   "execution_count": 35,
   "id": "0bf40b57",
   "metadata": {},
   "outputs": [
    {
     "data": {
      "text/plain": [
       "array(['ham'], dtype=object)"
      ]
     },
     "execution_count": 35,
     "metadata": {},
     "output_type": "execute_result"
    }
   ],
   "source": [
    "model.predict(features[0])"
   ]
  },
  {
   "cell_type": "code",
   "execution_count": 50,
   "id": "4c7dd369",
   "metadata": {},
   "outputs": [
    {
     "data": {
      "text/plain": [
       "'ham'"
      ]
     },
     "execution_count": 50,
     "metadata": {},
     "output_type": "execute_result"
    }
   ],
   "source": [
    "y_valid[0]"
   ]
  },
  {
   "cell_type": "code",
   "execution_count": 76,
   "id": "e161a862",
   "metadata": {},
   "outputs": [],
   "source": [
    "rf=RandomForestClassifier(random_state=42)\n",
    "cvrf_score=cross_val_score(rf,features1,y,cv=5)"
   ]
  },
  {
   "cell_type": "code",
   "execution_count": 77,
   "id": "99d32430",
   "metadata": {},
   "outputs": [
    {
     "data": {
      "text/plain": [
       "array([0.97578475, 0.97578475, 0.97217235, 0.96678636, 0.97396768])"
      ]
     },
     "execution_count": 77,
     "metadata": {},
     "output_type": "execute_result"
    }
   ],
   "source": [
    "cvrf_score"
   ]
  },
  {
   "cell_type": "code",
   "execution_count": null,
   "id": "727830b4",
   "metadata": {},
   "outputs": [],
   "source": []
  }
 ],
 "metadata": {
  "kernelspec": {
   "display_name": "Python 3",
   "language": "python",
   "name": "python3"
  },
  "language_info": {
   "codemirror_mode": {
    "name": "ipython",
    "version": 3
   },
   "file_extension": ".py",
   "mimetype": "text/x-python",
   "name": "python",
   "nbconvert_exporter": "python",
   "pygments_lexer": "ipython3",
   "version": "3.8.8"
  }
 },
 "nbformat": 4,
 "nbformat_minor": 5
}
